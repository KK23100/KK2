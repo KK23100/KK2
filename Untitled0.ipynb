{
  "nbformat": 4,
  "nbformat_minor": 0,
  "metadata": {
    "colab": {
      "provenance": [],
      "authorship_tag": "ABX9TyP3Jf/sox1TouXknOkTF95j",
      "include_colab_link": true
    },
    "kernelspec": {
      "name": "python3",
      "display_name": "Python 3"
    },
    "language_info": {
      "name": "python"
    }
  },
  "cells": [
    {
      "cell_type": "markdown",
      "metadata": {
        "id": "view-in-github",
        "colab_type": "text"
      },
      "source": [
        "<a href=\"https://colab.research.google.com/github/KK23100/KK2/blob/main/Untitled0.ipynb\" target=\"_parent\"><img src=\"https://colab.research.google.com/assets/colab-badge.svg\" alt=\"Open In Colab\"/></a>"
      ]
    },
    {
      "cell_type": "code",
      "execution_count": null,
      "metadata": {
        "colab": {
          "base_uri": "https://localhost:8080/"
        },
        "id": "BmkpHprb9KXh",
        "outputId": "05ff5097-cf88-4b6a-f85b-f8eb45970447"
      },
      "outputs": [
        {
          "output_type": "stream",
          "name": "stdout",
          "text": [
            "Welcome to the caschier System\n",
            "price: 500\n",
            "please pay 500 baht\n"
          ]
        }
      ],
      "source": [
        "#ทักทาย\n",
        "print(\"Welcome to the caschier System\")\n",
        "\n",
        "##ข้อมูสินค้า\n",
        "price = int(input(\"price: \"))\n",
        "\n",
        "##สรุปยอด\n",
        "print(\"please pay\", price , \"baht\")"
      ]
    },
    {
      "cell_type": "code",
      "source": [
        "(\"What's your name?\")\n",
        "print(\"What's your name\")\n",
        "userName = input(\"my name is \")\n",
        "print(\"Hello\" , userName, \"Nice to meet you\")"
      ],
      "metadata": {
        "colab": {
          "base_uri": "https://localhost:8080/"
        },
        "id": "bXDaf_E2AGXj",
        "outputId": "e176af2b-3f4d-4a31-b1d0-b66e0157f2fe"
      },
      "execution_count": null,
      "outputs": [
        {
          "output_type": "stream",
          "name": "stdout",
          "text": [
            "What's your name\n",
            "my name is จงแน่ว\n",
            "Hello จงแน่ว Nice to meet you\n"
          ]
        }
      ]
    },
    {
      "cell_type": "code",
      "source": [
        "totalNumber = 0\n",
        "print(\"Let's add some numbers\")\n",
        "\n",
        "numberA = int(input(\"give me a number: \"))\n",
        "numberB = int(input(\"give me another number: \"))\n",
        "\n",
        "totalNumber = numberA + numberB\n",
        "\n",
        "print(totalNumber)"
      ],
      "metadata": {
        "colab": {
          "base_uri": "https://localhost:8080/"
        },
        "id": "iCaU_jXOHRk7",
        "outputId": "597b0305-fa54-4980-c02a-732c258253c7"
      },
      "execution_count": null,
      "outputs": [
        {
          "output_type": "stream",
          "name": "stdout",
          "text": [
            "Let's add some numbers\n",
            "give me a number: 20\n",
            "give me another number: 10\n",
            "30\n"
          ]
        }
      ]
    },
    {
      "cell_type": "code",
      "source": [
        "change = 400"
      ],
      "metadata": {
        "id": "gCOS9j28sa6g"
      },
      "execution_count": null,
      "outputs": []
    },
    {
      "cell_type": "code",
      "source": [
        "n_20 = change // 20\n",
        "print(\"number of 20 baht notes: \", n_20)"
      ],
      "metadata": {
        "colab": {
          "base_uri": "https://localhost:8080/"
        },
        "id": "1W3k91FpslRb",
        "outputId": "3f9665ad-1d89-4d31-81e1-f0c6a08f00d7"
      },
      "execution_count": null,
      "outputs": [
        {
          "output_type": "stream",
          "name": "stdout",
          "text": [
            "number of 20 baht notes:  0\n"
          ]
        }
      ]
    },
    {
      "cell_type": "code",
      "source": [
        "change = 210\n",
        "n_20 = 10"
      ],
      "metadata": {
        "id": "L3DyQzAwtLFw"
      },
      "execution_count": null,
      "outputs": []
    },
    {
      "cell_type": "code",
      "source": [
        "change = change - n_20 * 20\n",
        "print(change)"
      ],
      "metadata": {
        "colab": {
          "base_uri": "https://localhost:8080/"
        },
        "id": "5Cwr_tOStX6h",
        "outputId": "080778d0-1579-41d8-bfcd-8c312493b8d1"
      },
      "execution_count": null,
      "outputs": [
        {
          "output_type": "stream",
          "name": "stdout",
          "text": [
            "10\n"
          ]
        }
      ]
    },
    {
      "cell_type": "code",
      "source": [
        "\n",
        "\n",
        "#รับเงินทอน\n",
        "change = int(input(\"Enter change: \"))\n",
        "\n",
        "#ทอนด้วยแบงค์20\n",
        "n_20 = change // 20\n",
        "print(\"number of 20 bath notes: \", n_20)\n",
        "\n",
        "#เศษที่เหลือจากทอนด้วยแบงค์20\n",
        "change = change - n_20 * 20\n",
        "\n",
        "#ทอนด้วยเหรียญ10\n",
        "n_10 = change // 10\n",
        "print(\"number of 10 bath coins: \",n_10)"
      ],
      "metadata": {
        "colab": {
          "base_uri": "https://localhost:8080/"
        },
        "id": "RWZcQcxFuOtF",
        "outputId": "8b353ba3-e7f1-4f5b-be72-4b61eebbd65a"
      },
      "execution_count": null,
      "outputs": [
        {
          "output_type": "stream",
          "name": "stdout",
          "text": [
            "Enter change: 130\n",
            "number of 20 bath notes:  6\n",
            "number of 10 bath coins:  1\n"
          ]
        }
      ]
    },
    {
      "cell_type": "code",
      "source": [],
      "metadata": {
        "id": "5ykoRF181AQW"
      },
      "execution_count": null,
      "outputs": []
    }
  ]
}