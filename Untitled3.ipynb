{
  "nbformat": 4,
  "nbformat_minor": 0,
  "metadata": {
    "colab": {
      "provenance": [],
      "authorship_tag": "ABX9TyP+7dkT38XlDDCMAgoV6jea",
      "include_colab_link": true
    },
    "kernelspec": {
      "name": "python3",
      "display_name": "Python 3"
    },
    "language_info": {
      "name": "python"
    }
  },
  "cells": [
    {
      "cell_type": "markdown",
      "metadata": {
        "id": "view-in-github",
        "colab_type": "text"
      },
      "source": [
        "<a href=\"https://colab.research.google.com/github/KK23100/KK2/blob/main/Untitled3.ipynb\" target=\"_parent\"><img src=\"https://colab.research.google.com/assets/colab-badge.svg\" alt=\"Open In Colab\"/></a>"
      ]
    },
    {
      "cell_type": "code",
      "execution_count": null,
      "metadata": {
        "id": "yqILsP5WZY_p",
        "colab": {
          "base_uri": "https://localhost:8080/"
        },
        "outputId": "473107a7-6f7b-41eb-a29e-6d18c09dd544"
      },
      "outputs": [
        {
          "output_type": "stream",
          "name": "stdout",
          "text": [
            "Enter end number: 10\n",
            "The number is 1\n",
            "The number is 2\n",
            "The number is 3\n",
            "The number is 4\n",
            "The number is 5\n",
            "The number is 6\n",
            "The number is 7\n",
            "The number is 8\n",
            "The number is 9\n",
            "The number is 10\n"
          ]
        }
      ],
      "source": [
        "endNumber = int(input(\"Enter end number: \"))\n",
        "i = 1\n",
        "while i<=endNumber :\n",
        "  print(\"The number is\",i)\n",
        "  i = i+1"
      ]
    },
    {
      "cell_type": "code",
      "source": [
        "totalKM = 0\n",
        "jogAmount = int(input(\"How many days did you jog this week:  \"))\n",
        "print()\n",
        "jogCount = 1\n",
        "while jogCount <= jogAmount :\n",
        "  amountRun = int(input(\"How many kilometres did you jog on day\" + str(jogCount) + \"? \"))\n",
        "  totalKM = totalKM + amountRun\n",
        "  jogCount = jogCount + 1\n",
        "\n",
        "print()\n",
        "print(\"The total kilometres you jogging this week is:\",totalKM,\"kilometres\")"
      ],
      "metadata": {
        "colab": {
          "base_uri": "https://localhost:8080/"
        },
        "id": "KlakfvM3284u",
        "outputId": "04b6a3bc-386c-4a11-ee61-7f214cf4c6f9"
      },
      "execution_count": null,
      "outputs": [
        {
          "output_type": "stream",
          "name": "stdout",
          "text": [
            "How many days did you jog this week:  1\n",
            "\n",
            "How many kilometres did you jog on day1? 1\n",
            "\n",
            "The total kilometres you jogging this week is: 1 kilometres\n"
          ]
        }
      ]
    },
    {
      "cell_type": "code",
      "source": [
        "i = 1\n",
        "n = 25\n",
        "count = 0\n",
        "\n",
        "while i<=n:\n",
        "  if i%3==0:\n",
        "    count = count+1\n",
        "  i=i+1\n",
        "print(count)"
      ],
      "metadata": {
        "colab": {
          "base_uri": "https://localhost:8080/"
        },
        "id": "3C0RyHGRthLp",
        "outputId": "0b6ecf2b-e7ae-4f3d-9e6f-976a71bca0dd"
      },
      "execution_count": null,
      "outputs": [
        {
          "output_type": "stream",
          "name": "stdout",
          "text": [
            "8\n"
          ]
        }
      ]
    },
    {
      "cell_type": "code",
      "source": [
        "num = 1\n",
        "endNum = 50\n",
        "numDiv = 0\n",
        "\n",
        "while num <= endNum :\n",
        "  if num % 3 == 0 or num % 7 ==0 :\n",
        "    print(num, 'is divisible by 3 or 7')\n",
        "    numDiv = numDiv + 1\n",
        "  num = num + 1\n",
        "\n",
        "print()\n",
        "print('There are',numDiv,'numbers divisible by 3 or 7')"
      ],
      "metadata": {
        "colab": {
          "base_uri": "https://localhost:8080/"
        },
        "id": "qwQr84zqvG0T",
        "outputId": "90044a65-c416-4bb8-fa1b-1fec235d68fb"
      },
      "execution_count": null,
      "outputs": [
        {
          "output_type": "stream",
          "name": "stdout",
          "text": [
            "3 is divisible by 3 or 7\n",
            "6 is divisible by 3 or 7\n",
            "7 is divisible by 3 or 7\n",
            "9 is divisible by 3 or 7\n",
            "12 is divisible by 3 or 7\n",
            "14 is divisible by 3 or 7\n",
            "15 is divisible by 3 or 7\n",
            "18 is divisible by 3 or 7\n",
            "21 is divisible by 3 or 7\n",
            "24 is divisible by 3 or 7\n",
            "27 is divisible by 3 or 7\n",
            "28 is divisible by 3 or 7\n",
            "30 is divisible by 3 or 7\n",
            "33 is divisible by 3 or 7\n",
            "35 is divisible by 3 or 7\n",
            "36 is divisible by 3 or 7\n",
            "39 is divisible by 3 or 7\n",
            "42 is divisible by 3 or 7\n",
            "45 is divisible by 3 or 7\n",
            "48 is divisible by 3 or 7\n",
            "49 is divisible by 3 or 7\n",
            "\n",
            "There are 21 numbers divisible by 3 or 7\n"
          ]
        }
      ]
    },
    {
      "cell_type": "code",
      "source": [
        "\n",
        "\n",
        "studentsAmount = int(input('How many students took the test?'))\n",
        "count = 0\n",
        "studentFail = 0\n",
        "studentPass = 0\n",
        "while count < studentsAmount:\n",
        "  count = count + 1\n",
        "  studentScore = int(input('What is the score of students no:' + str(count) + '? (0-10)'' '))\n",
        "\n",
        "  if studentScore < 6:\n",
        "    print('fail')\n",
        "    studentFail = studentFail + 1\n",
        "  else:\n",
        "    print('pass')\n",
        "    studentPass = studentPass + 1\n",
        "\n",
        "print()\n",
        "print('Number of students that failed the test: ' , studentFail)\n",
        "print('Number of students that Pass the test: ' , studentPass)"
      ],
      "metadata": {
        "id": "rQLhGYZIxfJt"
      },
      "execution_count": null,
      "outputs": []
    },
    {
      "cell_type": "code",
      "source": [
        "mCount = 0\n",
        "fCount = 0\n",
        "\n",
        "gender = input('Enter male ir female(m/f) - Enter x to Exit:')\n",
        "while gender != 'x':\n",
        "  if gender == 'm':\n",
        "    mCount = mCount + 1\n",
        "  elif gender == 'f':\n",
        "    fCount = fCount + 1\n",
        "  else:\n",
        "    print('Please enter correct information')\n",
        "  gender =input('Enter male ir female(m/f) - Enter x to Exit:')\n",
        "\n",
        "print()\n",
        "print('Male=',mCount,'Frmale=',fCount)"
      ],
      "metadata": {
        "colab": {
          "base_uri": "https://localhost:8080/"
        },
        "id": "gKtTJtng7ov7",
        "outputId": "0139aa27-4411-4e20-cd86-61c1ae81627a"
      },
      "execution_count": null,
      "outputs": [
        {
          "output_type": "stream",
          "name": "stdout",
          "text": [
            "Enter male ir female(m/f) - Enter x to Exit:m\n",
            "Enter male ir female(m/f) - Enter x to Exit:m\n",
            "Enter male ir female(m/f) - Enter x to Exit:f\n",
            "Enter male ir female(m/f) - Enter x to Exit:x\n",
            "\n",
            "Male= 2 Frmale= 1\n",
            "Enter male ir female(m/f) - Enter x to Exit:c\n",
            "Please enter correct information\n",
            "Enter male ir female(m/f) - Enter x to Exit:x\n",
            "\n",
            "Male= 0 Frmale= 0\n"
          ]
        }
      ]
    },
    {
      "cell_type": "code",
      "source": [
        "pin = '2310'\n",
        "amountEnter = 0\n",
        "\n",
        "pinCorrect = False\n",
        "\n",
        "while amountEnter < 3 and not (pinCorrect):\n",
        "  userInput = input('enter your Pin: ')\n",
        "  if userInput == pin:\n",
        "    pinCorrect = True\n",
        "  amountEnter = amountEnter + 1\n",
        "if pinCorrect:\n",
        "  print('Welcome to the system')\n",
        "else:\n",
        "  print('Too many Errors : Please contact supervisor')"
      ],
      "metadata": {
        "colab": {
          "base_uri": "https://localhost:8080/"
        },
        "id": "zoVXMmqf_Qjc",
        "outputId": "a79fb47e-f467-47bc-d571-d81e87f90f87"
      },
      "execution_count": null,
      "outputs": [
        {
          "output_type": "stream",
          "name": "stdout",
          "text": [
            "enter your Pin: 2310\n",
            "Welcome to the system\n"
          ]
        }
      ]
    }
  ]
}